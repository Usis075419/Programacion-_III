{
  "nbformat": 4,
  "nbformat_minor": 0,
  "metadata": {
    "colab": {
      "provenance": [],
      "authorship_tag": "ABX9TyOmNvfrZLlnVlF/72y8KU9m",
      "include_colab_link": true
    },
    "kernelspec": {
      "name": "python3",
      "display_name": "Python 3"
    },
    "language_info": {
      "name": "python"
    }
  },
  "cells": [
    {
      "cell_type": "markdown",
      "metadata": {
        "id": "view-in-github",
        "colab_type": "text"
      },
      "source": [
        "<a href=\"https://colab.research.google.com/github/Usis075419/Programacion-_III/blob/main/guia.ipynb\" target=\"_parent\"><img src=\"https://colab.research.google.com/assets/colab-badge.svg\" alt=\"Open In Colab\"/></a>"
      ]
    },
    {
      "cell_type": "markdown",
      "source": [
        "Entrenar una IA que aprenda a leer  numeros del 0-9 "
      ],
      "metadata": {
        "id": "ikUBVbgtqLea"
      }
    },
    {
      "cell_type": "code",
      "source": [
        "#importar librerias \n",
        "import tensorflow as tf\n",
        "import matplotlib.pyplot as plt\n",
        "import numpy as np \n",
        "import math \n",
        "import tensorflow_datasets as tfds \n",
        "\n"
      ],
      "metadata": {
        "id": "Qw7f2F6BqSnp"
      },
      "execution_count": 4,
      "outputs": []
    },
    {
      "cell_type": "code",
      "source": [
        "#cargamos nuestra dataset en variables \n",
        "dataset, metadata = tfds.load(\"mnist\", as_supervised=True, with_info=True)\n",
        "datos_entrenamiento, datos_prueba = dataset ['train'],dataset['test']\n"
      ],
      "metadata": {
        "id": "AaJpix8-s0_U"
      },
      "execution_count": 5,
      "outputs": []
    },
    {
      "cell_type": "code",
      "source": [
        "#etiquetas de los datos que son 10 \n",
        "numero_lentras = ['cero','uno','dos','tres','cuatro','cinco','seis','siete','ocho','nueve']"
      ],
      "metadata": {
        "id": "Xql9lqz_t5xL"
      },
      "execution_count": 6,
      "outputs": []
    },
    {
      "cell_type": "code",
      "source": [
        "#4 obtener la cantidad de datos de entrenamiento y prueba \n",
        "print(metadata.splits[\"train\"].num_examples)\n",
        "numeros_ejemplo_entrenamiento = metadata.splits['train'].num_examples\n",
        "numeros_ejemplo_prueba= metadata.splits['test'].num_examples\n"
      ],
      "metadata": {
        "id": "WGTEMms4uV_Q",
        "colab": {
          "base_uri": "https://localhost:8080/"
        },
        "outputId": "6a1ac402-d89e-4d3e-9ecf-71438c4e48cc"
      },
      "execution_count": 7,
      "outputs": [
        {
          "output_type": "stream",
          "name": "stdout",
          "text": [
            "60000\n"
          ]
        }
      ]
    },
    {
      "cell_type": "code",
      "source": [
        "#5 funcion normalizadora \n",
        "def normalizacion(img,labels):\n",
        "  img = tf.cast(img,tf.float32)\n",
        "  img /=255 #150/255 = 0.58\n",
        "  return img,labels \n"
      ],
      "metadata": {
        "id": "qnnQ7yYywBsY"
      },
      "execution_count": 8,
      "outputs": []
    },
    {
      "cell_type": "code",
      "source": [
        "#llamar la funcion normalizadora\n",
        "datos_entrenamiento = datos_entrenamiento.map(normalizacion)\n",
        "datos_prueba = datos_prueba.map(normalizacion)\n",
        "\n",
        "#datos_entrenamiento = datos_entrenamiento.map(normalizacion)"
      ],
      "metadata": {
        "id": "FEsk6QvYwEiN"
      },
      "execution_count": 9,
      "outputs": []
    },
    {
      "cell_type": "code",
      "source": [
        "#arquitectura de red neuronal \n",
        "modelo = tf.keras.Sequential([\n",
        "    tf.keras.layers.Flatten(input_shape=(28,28,1)),#capa de entrada \n",
        "    tf.keras.layers.Dense(64, activation=tf.nn.relu),#capa oculta con 64 neuronas\n",
        "    tf.keras.layers.Dense(64, activation=tf.nn.relu), #capa oculta con 64 neuronas\n",
        "    tf.keras.layers.Dense(10, activation=tf.nn.softmax)#capa de salida de 10 neuronas\n",
        "])"
      ],
      "metadata": {
        "id": "WpRnxryg1D1_"
      },
      "execution_count": 10,
      "outputs": []
    },
    {
      "cell_type": "code",
      "source": [
        "#compilar el modelo\n",
        "modelo.compile(\n",
        "    optimizer=\"adam\",\n",
        "    loss=\"sparse_categorical_crossentropy\",\n",
        "    metrics=[\"accuracy\"]\n",
        ")"
      ],
      "metadata": {
        "id": "3BD9LeWSIDSF"
      },
      "execution_count": 11,
      "outputs": []
    },
    {
      "cell_type": "code",
      "source": [
        "#entrenamiento por  lote\n",
        "size_lote = 32\n",
        "datos_entrenamiento= datos_entrenamiento.repeat().shuffle(numeros_ejemplo_entrenamiento).batch(size_lote)\n",
        "datos_prueba= datos_prueba.repeat().shuffle(numeros_ejemplo_prueba).batch (size_lote)"
      ],
      "metadata": {
        "id": "rlaArFWyJkLg"
      },
      "execution_count": 12,
      "outputs": []
    },
    {
      "cell_type": "code",
      "source": [
        "#realizar entrenamiento\n",
        "modelo.fit(datos_entrenamiento, epochs=5,\n",
        "           steps_per_epoch=math.ceil(numeros_ejemplo_entrenamiento/size_lote))\n"
      ],
      "metadata": {
        "colab": {
          "base_uri": "https://localhost:8080/"
        },
        "id": "eNzn6px0K89B",
        "outputId": "a74a78c4-4d5b-4e52-df13-52503436cf5a"
      },
      "execution_count": 13,
      "outputs": [
        {
          "output_type": "stream",
          "name": "stdout",
          "text": [
            "Epoch 1/5\n",
            "1875/1875 [==============================] - 14s 4ms/step - loss: 0.2771 - accuracy: 0.9184\n",
            "Epoch 2/5\n",
            "1875/1875 [==============================] - 8s 4ms/step - loss: 0.1225 - accuracy: 0.9635\n",
            "Epoch 3/5\n",
            "1875/1875 [==============================] - 9s 5ms/step - loss: 0.0882 - accuracy: 0.9725\n",
            "Epoch 4/5\n",
            "1875/1875 [==============================] - 12s 7ms/step - loss: 0.0680 - accuracy: 0.9787\n",
            "Epoch 5/5\n",
            "1875/1875 [==============================] - 9s 5ms/step - loss: 0.0583 - accuracy: 0.9818\n"
          ]
        },
        {
          "output_type": "execute_result",
          "data": {
            "text/plain": [
              "<keras.callbacks.History at 0x7fd0ff193a50>"
            ]
          },
          "metadata": {},
          "execution_count": 13
        }
      ]
    },
    {
      "cell_type": "code",
      "source": [
        "#evaluamos el aprendizaje\n",
        "test_loss, test_accuracy = modelo.evaluate(datos_prueba,steps=math.ceil(numeros_ejemplo_prueba/size_lote))\n",
        "print(\"resltados de la pruebas\", test_loss,test_accuracy)"
      ],
      "metadata": {
        "id": "RfWP7IVtNMo4"
      },
      "execution_count": null,
      "outputs": []
    },
    {
      "cell_type": "code",
      "source": [
        "#15. Hacer una \n",
        "i=0\n",
        "for miImg,etiqueta in datos_entrenamiento.take(1):\n",
        "  etiqueta = etiqueta.numpy()\n",
        "  img= miImg[i].numpy().reshape(1,28,28,1)\n",
        "  prediccion = modelo.predict(img,batch_size=1)\n",
        "\n",
        "  valor_predicho = np.argmax(prediccion)\n",
        "  print(valor_predicho,etiqueta[i])\n",
        "\n",
        "  plt.grid(False)\n",
        "  plt.imshow(img[0,...,0], cmap=plt.cm.binary)\n",
        "  plt.xlabel(\"prediccion: {}\".format(numero_lentras[valor_predicho]), color=\"green\")\n"
      ],
      "metadata": {
        "colab": {
          "base_uri": "https://localhost:8080/",
          "height": 296
        },
        "id": "nbHGKj5mNpB7",
        "outputId": "1edd5796-c558-4ea5-e70f-88e65d6c3a5e"
      },
      "execution_count": 18,
      "outputs": [
        {
          "output_type": "stream",
          "name": "stdout",
          "text": [
            "3 3\n"
          ]
        },
        {
          "output_type": "display_data",
          "data": {
            "text/plain": [
              "<Figure size 432x288 with 1 Axes>"
            ],
            "image/png": "[encoded data removed]"
          },
          "metadata": {
            "needs_background": "light"
          }
        }
      ]
    }
  ]
}